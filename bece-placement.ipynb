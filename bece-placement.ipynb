{
 "cells": [
  {
   "attachments": {},
   "cell_type": "markdown",
   "metadata": {},
   "source": [
    "## Data Access\n",
    "\n",
    "The data file is encrypted and hence ought to be decrypted to access the content. This means, one will need a decryption key which can be supplied to the `read_encrypted()` function. Though, you can paste the key into the code (as in Case 1), avoid this and enter the key via the `getpass()` function (as in Case 2). Note that, when entring the key via `getpass()`, the content of what you are typing will be masked or not seen at all. The simplest way is to copy and paste the key when prompted and then hit the enter key.\n",
    "\n",
    "> When you have been able to access the data, please do not save it to file. Also, remember not to share the data or the key with anyone."
   ]
  },
  {
   "cell_type": "code",
   "execution_count": 1,
   "metadata": {},
   "outputs": [],
   "source": [
    "import utils.read_encrypted as ure\n",
    "import getpass"
   ]
  },
  {
   "attachments": {},
   "cell_type": "markdown",
   "metadata": {},
   "source": [
    "### Case 1"
   ]
  },
  {
   "cell_type": "code",
   "execution_count": null,
   "metadata": {},
   "outputs": [],
   "source": [
    "# df = ure.read_encrypted(\"data/bece-encrypted.zip\", b'paste-key-here')"
   ]
  },
  {
   "attachments": {},
   "cell_type": "markdown",
   "metadata": {},
   "source": [
    "### Case 2"
   ]
  },
  {
   "cell_type": "code",
   "execution_count": 2,
   "metadata": {},
   "outputs": [],
   "source": [
    "df = ure.read_encrypted(\n",
    "    \"data/bece-encrypted.zip\", \n",
    "    bytes(getpass.getpass(\"Enter key: \"), \"utf-8\")\n",
    ")"
   ]
  },
  {
   "cell_type": "code",
   "execution_count": 3,
   "metadata": {},
   "outputs": [
    {
     "data": {
      "text/plain": [
       "(519537, 26)"
      ]
     },
     "execution_count": 3,
     "metadata": {},
     "output_type": "execute_result"
    }
   ],
   "source": [
    "df.shape"
   ]
  },
  {
   "cell_type": "code",
   "execution_count": 4,
   "metadata": {},
   "outputs": [
    {
     "data": {
      "text/html": [
       "<div>\n",
       "<style scoped>\n",
       "    .dataframe tbody tr th:only-of-type {\n",
       "        vertical-align: middle;\n",
       "    }\n",
       "\n",
       "    .dataframe tbody tr th {\n",
       "        vertical-align: top;\n",
       "    }\n",
       "\n",
       "    .dataframe thead th {\n",
       "        text-align: right;\n",
       "    }\n",
       "</style>\n",
       "<table border=\"1\" class=\"dataframe\">\n",
       "  <thead>\n",
       "    <tr style=\"text-align: right;\">\n",
       "      <th></th>\n",
       "      <th>index_no</th>\n",
       "      <th>gender</th>\n",
       "      <th>jhs_code</th>\n",
       "      <th>jhs_district</th>\n",
       "      <th>jhs_region</th>\n",
       "      <th>jhs_type</th>\n",
       "      <th>shs_code</th>\n",
       "      <th>shs_name</th>\n",
       "      <th>options</th>\n",
       "      <th>english</th>\n",
       "      <th>...</th>\n",
       "      <th>best_elective_1_name</th>\n",
       "      <th>best_elective_1_score</th>\n",
       "      <th>best_elective_1_aggregate</th>\n",
       "      <th>best_elective_2_name</th>\n",
       "      <th>best_elective_2_score</th>\n",
       "      <th>best_elective_2_aggregate</th>\n",
       "      <th>count_of_ones</th>\n",
       "      <th>aggregate</th>\n",
       "      <th>raw_score</th>\n",
       "      <th>dtrack</th>\n",
       "    </tr>\n",
       "  </thead>\n",
       "  <tbody>\n",
       "    <tr>\n",
       "      <th>0</th>\n",
       "      <td>22441</td>\n",
       "      <td>Female</td>\n",
       "      <td>15096</td>\n",
       "      <td>LA DADE-KOTOPON MUNICIPAL</td>\n",
       "      <td>Greater Accra Region</td>\n",
       "      <td>PRIVATE</td>\n",
       "      <td>30107.0</td>\n",
       "      <td>Wesley Girls Senior High, Cape Coast</td>\n",
       "      <td>A</td>\n",
       "      <td>87.0</td>\n",
       "      <td>...</td>\n",
       "      <td>B.D.T./PRE-TECH.</td>\n",
       "      <td>85.0</td>\n",
       "      <td>1.0</td>\n",
       "      <td>FRENCH</td>\n",
       "      <td>86.0</td>\n",
       "      <td>1.0</td>\n",
       "      <td>9.0</td>\n",
       "      <td>6.0</td>\n",
       "      <td>570.0</td>\n",
       "      <td>GOLD</td>\n",
       "    </tr>\n",
       "    <tr>\n",
       "      <th>1</th>\n",
       "      <td>257396</td>\n",
       "      <td>Male</td>\n",
       "      <td>13403</td>\n",
       "      <td>SUNYANI WEST</td>\n",
       "      <td>Brong-Ahafo</td>\n",
       "      <td>PRIVATE</td>\n",
       "      <td>60106.0</td>\n",
       "      <td>St. James Sem &amp; Senior High, Abesim</td>\n",
       "      <td>A</td>\n",
       "      <td>91.0</td>\n",
       "      <td>...</td>\n",
       "      <td>B.D.T./PRE-TECH.</td>\n",
       "      <td>87.0</td>\n",
       "      <td>1.0</td>\n",
       "      <td>FRENCH</td>\n",
       "      <td>89.0</td>\n",
       "      <td>1.0</td>\n",
       "      <td>9.0</td>\n",
       "      <td>6.0</td>\n",
       "      <td>567.0</td>\n",
       "      <td>GREEN</td>\n",
       "    </tr>\n",
       "    <tr>\n",
       "      <th>2</th>\n",
       "      <td>401850</td>\n",
       "      <td>Male</td>\n",
       "      <td>13403</td>\n",
       "      <td>SUNYANI WEST</td>\n",
       "      <td>Brong-Ahafo</td>\n",
       "      <td>PRIVATE</td>\n",
       "      <td>60106.0</td>\n",
       "      <td>St. James Sem &amp; Senior High, Abesim</td>\n",
       "      <td>A</td>\n",
       "      <td>88.0</td>\n",
       "      <td>...</td>\n",
       "      <td>B.D.T./PRE-TECH.</td>\n",
       "      <td>85.0</td>\n",
       "      <td>1.0</td>\n",
       "      <td>FRENCH</td>\n",
       "      <td>90.0</td>\n",
       "      <td>1.0</td>\n",
       "      <td>9.0</td>\n",
       "      <td>6.0</td>\n",
       "      <td>566.0</td>\n",
       "      <td>GREEN</td>\n",
       "    </tr>\n",
       "    <tr>\n",
       "      <th>3</th>\n",
       "      <td>351070</td>\n",
       "      <td>Female</td>\n",
       "      <td>6349</td>\n",
       "      <td>AWUTU-SENYA EAST MUNICIPAL</td>\n",
       "      <td>Central Region</td>\n",
       "      <td>PRIVATE</td>\n",
       "      <td>30107.0</td>\n",
       "      <td>Wesley Girls Senior High, Cape Coast</td>\n",
       "      <td>A</td>\n",
       "      <td>82.0</td>\n",
       "      <td>...</td>\n",
       "      <td>B.D.T./PRE-TECH.</td>\n",
       "      <td>90.0</td>\n",
       "      <td>1.0</td>\n",
       "      <td>FRENCH</td>\n",
       "      <td>91.0</td>\n",
       "      <td>1.0</td>\n",
       "      <td>9.0</td>\n",
       "      <td>6.0</td>\n",
       "      <td>564.0</td>\n",
       "      <td>GREEN</td>\n",
       "    </tr>\n",
       "    <tr>\n",
       "      <th>4</th>\n",
       "      <td>230932</td>\n",
       "      <td>Female</td>\n",
       "      <td>8325</td>\n",
       "      <td>ACCRA METROPOLITAN</td>\n",
       "      <td>Greater Accra Region</td>\n",
       "      <td>PRIVATE</td>\n",
       "      <td>30107.0</td>\n",
       "      <td>Wesley Girls Senior High, Cape Coast</td>\n",
       "      <td>A</td>\n",
       "      <td>88.0</td>\n",
       "      <td>...</td>\n",
       "      <td>FRENCH</td>\n",
       "      <td>93.0</td>\n",
       "      <td>1.0</td>\n",
       "      <td>REL.&amp; MORAL EDUC.</td>\n",
       "      <td>89.0</td>\n",
       "      <td>1.0</td>\n",
       "      <td>9.0</td>\n",
       "      <td>6.0</td>\n",
       "      <td>562.0</td>\n",
       "      <td>GOLD</td>\n",
       "    </tr>\n",
       "  </tbody>\n",
       "</table>\n",
       "<p>5 rows × 26 columns</p>\n",
       "</div>"
      ],
      "text/plain": [
       "   index_no  gender  jhs_code                jhs_district  \\\n",
       "0     22441  Female     15096   LA DADE-KOTOPON MUNICIPAL   \n",
       "1    257396    Male     13403                SUNYANI WEST   \n",
       "2    401850    Male     13403                SUNYANI WEST   \n",
       "3    351070  Female      6349  AWUTU-SENYA EAST MUNICIPAL   \n",
       "4    230932  Female      8325          ACCRA METROPOLITAN   \n",
       "\n",
       "             jhs_region jhs_type  shs_code  \\\n",
       "0  Greater Accra Region  PRIVATE   30107.0   \n",
       "1           Brong-Ahafo  PRIVATE   60106.0   \n",
       "2           Brong-Ahafo  PRIVATE   60106.0   \n",
       "3        Central Region  PRIVATE   30107.0   \n",
       "4  Greater Accra Region  PRIVATE   30107.0   \n",
       "\n",
       "                               shs_name options  english  ...  \\\n",
       "0  Wesley Girls Senior High, Cape Coast       A     87.0  ...   \n",
       "1   St. James Sem & Senior High, Abesim       A     91.0  ...   \n",
       "2   St. James Sem & Senior High, Abesim       A     88.0  ...   \n",
       "3  Wesley Girls Senior High, Cape Coast       A     82.0  ...   \n",
       "4  Wesley Girls Senior High, Cape Coast       A     88.0  ...   \n",
       "\n",
       "   best_elective_1_name  best_elective_1_score  best_elective_1_aggregate  \\\n",
       "0      B.D.T./PRE-TECH.                   85.0                        1.0   \n",
       "1      B.D.T./PRE-TECH.                   87.0                        1.0   \n",
       "2      B.D.T./PRE-TECH.                   85.0                        1.0   \n",
       "3      B.D.T./PRE-TECH.                   90.0                        1.0   \n",
       "4                FRENCH                   93.0                        1.0   \n",
       "\n",
       "   best_elective_2_name  best_elective_2_score  best_elective_2_aggregate  \\\n",
       "0                FRENCH                   86.0                        1.0   \n",
       "1                FRENCH                   89.0                        1.0   \n",
       "2                FRENCH                   90.0                        1.0   \n",
       "3                FRENCH                   91.0                        1.0   \n",
       "4     REL.& MORAL EDUC.                   89.0                        1.0   \n",
       "\n",
       "  count_of_ones  aggregate  raw_score dtrack  \n",
       "0           9.0        6.0      570.0   GOLD  \n",
       "1           9.0        6.0      567.0  GREEN  \n",
       "2           9.0        6.0      566.0  GREEN  \n",
       "3           9.0        6.0      564.0  GREEN  \n",
       "4           9.0        6.0      562.0   GOLD  \n",
       "\n",
       "[5 rows x 26 columns]"
      ]
     },
     "execution_count": 4,
     "metadata": {},
     "output_type": "execute_result"
    }
   ],
   "source": [
    "df.head()"
   ]
  },
  {
   "cell_type": "code",
   "execution_count": 5,
   "metadata": {},
   "outputs": [
    {
     "name": "stdout",
     "output_type": "stream",
     "text": [
      "<class 'pandas.core.frame.DataFrame'>\n",
      "RangeIndex: 519537 entries, 0 to 519536\n",
      "Data columns (total 26 columns):\n",
      " #   Column                     Non-Null Count   Dtype  \n",
      "---  ------                     --------------   -----  \n",
      " 0   index_no                   519537 non-null  int64  \n",
      " 1   gender                     519537 non-null  object \n",
      " 2   jhs_code                   519537 non-null  int64  \n",
      " 3   jhs_district               519415 non-null  object \n",
      " 4   jhs_region                 519417 non-null  object \n",
      " 5   jhs_type                   519415 non-null  object \n",
      " 6   shs_code                   459967 non-null  float64\n",
      " 7   shs_name                   459967 non-null  object \n",
      " 8   options                    459967 non-null  object \n",
      " 9   english                    519477 non-null  float64\n",
      " 10  maths                      519477 non-null  float64\n",
      " 11  socstudies                 519477 non-null  float64\n",
      " 12  rme                        519477 non-null  float64\n",
      " 13  intscience                 519477 non-null  float64\n",
      " 14  ict                        519477 non-null  float64\n",
      " 15  french                     519477 non-null  float64\n",
      " 16  best_elective_1_name       513631 non-null  object \n",
      " 17  best_elective_1_score      518205 non-null  float64\n",
      " 18  best_elective_1_aggregate  518205 non-null  float64\n",
      " 19  best_elective_2_name       513547 non-null  object \n",
      " 20  best_elective_2_score      518205 non-null  float64\n",
      " 21  best_elective_2_aggregate  518205 non-null  float64\n",
      " 22  count_of_ones              519483 non-null  float64\n",
      " 23  aggregate                  519483 non-null  float64\n",
      " 24  raw_score                  519483 non-null  float64\n",
      " 25  dtrack                     518572 non-null  object \n",
      "dtypes: float64(15), int64(2), object(9)\n",
      "memory usage: 103.1+ MB\n"
     ]
    }
   ],
   "source": [
    "df.info()"
   ]
  },
  {
   "cell_type": "code",
   "execution_count": 6,
   "metadata": {},
   "outputs": [
    {
     "data": {
      "text/plain": [
       "index_no                       int64\n",
       "gender                        object\n",
       "jhs_code                       int64\n",
       "jhs_district                  object\n",
       "jhs_region                    object\n",
       "jhs_type                      object\n",
       "shs_code                     float64\n",
       "shs_name                      object\n",
       "options                       object\n",
       "english                      float64\n",
       "maths                        float64\n",
       "socstudies                   float64\n",
       "rme                          float64\n",
       "intscience                   float64\n",
       "ict                          float64\n",
       "french                       float64\n",
       "best_elective_1_name          object\n",
       "best_elective_1_score        float64\n",
       "best_elective_1_aggregate    float64\n",
       "best_elective_2_name          object\n",
       "best_elective_2_score        float64\n",
       "best_elective_2_aggregate    float64\n",
       "count_of_ones                float64\n",
       "aggregate                    float64\n",
       "raw_score                    float64\n",
       "dtrack                        object\n",
       "dtype: object"
      ]
     },
     "execution_count": 6,
     "metadata": {},
     "output_type": "execute_result"
    }
   ],
   "source": [
    "df.dtypes"
   ]
  },
  {
   "cell_type": "code",
   "execution_count": 7,
   "metadata": {},
   "outputs": [
    {
     "data": {
      "text/plain": [
       "index_no                         0\n",
       "gender                           0\n",
       "jhs_code                         0\n",
       "jhs_district                   122\n",
       "jhs_region                     120\n",
       "jhs_type                       122\n",
       "shs_code                     59570\n",
       "shs_name                     59570\n",
       "options                      59570\n",
       "english                         60\n",
       "maths                           60\n",
       "socstudies                      60\n",
       "rme                             60\n",
       "intscience                      60\n",
       "ict                             60\n",
       "french                          60\n",
       "best_elective_1_name          5906\n",
       "best_elective_1_score         1332\n",
       "best_elective_1_aggregate     1332\n",
       "best_elective_2_name          5990\n",
       "best_elective_2_score         1332\n",
       "best_elective_2_aggregate     1332\n",
       "count_of_ones                   54\n",
       "aggregate                       54\n",
       "raw_score                       54\n",
       "dtrack                         965\n",
       "dtype: int64"
      ]
     },
     "execution_count": 7,
     "metadata": {},
     "output_type": "execute_result"
    }
   ],
   "source": [
    "df.isnull().sum()"
   ]
  },
  {
   "cell_type": "code",
   "execution_count": 4,
   "metadata": {},
   "outputs": [
    {
     "data": {
      "text/plain": [
       "SINGLE           191112\n",
       "GREEN            178426\n",
       "GOLD             148832\n",
       "Gold                 81\n",
       "NOT AVAILABLE        70\n",
       "Green                51\n",
       "Name: dtrack, dtype: int64"
      ]
     },
     "execution_count": 4,
     "metadata": {},
     "output_type": "execute_result"
    }
   ],
   "source": [
    "df['dtrack'].value_counts()"
   ]
  },
  {
   "cell_type": "code",
   "execution_count": 5,
   "metadata": {},
   "outputs": [
    {
     "data": {
      "text/plain": [
       "Single           191112\n",
       "Green            178477\n",
       "Gold             148913\n",
       "NaN                 965\n",
       "Not Available        70\n",
       "Name: dtrack, dtype: int64"
      ]
     },
     "execution_count": 5,
     "metadata": {},
     "output_type": "execute_result"
    }
   ],
   "source": [
    "df['dtrack'].str.title().value_counts(dropna=False)"
   ]
  },
  {
   "cell_type": "code",
   "execution_count": 6,
   "metadata": {},
   "outputs": [],
   "source": [
    "df['dtrack'] = df['dtrack'].str.title()"
   ]
  },
  {
   "cell_type": "code",
   "execution_count": 7,
   "metadata": {},
   "outputs": [
    {
     "data": {
      "text/plain": [
       "Ashanti Region          104368\n",
       "Greater Accra Region     91115\n",
       "Central Region           55706\n",
       "Western Region           52531\n",
       "Brong-Ahafo              49046\n",
       "Eastern Region           48258\n",
       "Northern                 43903\n",
       "Volta                    37716\n",
       "Upper East               22031\n",
       "Upper West               13297\n",
       "WESTERN                    380\n",
       "ASHANTI                    331\n",
       "Unknown                    236\n",
       "NaN                        120\n",
       "GR. ACCRA                  101\n",
       "EASTERN                     91\n",
       "B.A.                        87\n",
       "CENTRAL                     59\n",
       "VOLTA                       56\n",
       "NORTHERN                    45\n",
       "U. EAST                     38\n",
       "U. WEST                     18\n",
       "Greater Accra                3\n",
       "U. West                      1\n",
       "Name: jhs_region, dtype: int64"
      ]
     },
     "execution_count": 7,
     "metadata": {},
     "output_type": "execute_result"
    }
   ],
   "source": [
    "df.jhs_region.value_counts(dropna=False)"
   ]
  },
  {
   "cell_type": "code",
   "execution_count": 9,
   "metadata": {},
   "outputs": [
    {
     "data": {
      "text/plain": [
       "Ashanti Region          104368\n",
       "Greater Accra Region     91115\n",
       "Central Region           55706\n",
       "Western Region           52531\n",
       "Brong-Ahafo              49046\n",
       "Eastern Region           48258\n",
       "Northern                 43948\n",
       "Volta                    37772\n",
       "Upper East               22031\n",
       "Upper West               13297\n",
       "Western                    380\n",
       "Ashanti                    331\n",
       "Unknown                    236\n",
       "Gr. Accra                  101\n",
       "Eastern                     91\n",
       "B.A.                        87\n",
       "Central                     59\n",
       "U. East                     38\n",
       "U. West                     19\n",
       "Greater Accra                3\n",
       "Name: jhs_region, dtype: int64"
      ]
     },
     "execution_count": 9,
     "metadata": {},
     "output_type": "execute_result"
    }
   ],
   "source": [
    "df['jhs_region'].str.title().value_counts()"
   ]
  },
  {
   "cell_type": "code",
   "execution_count": 10,
   "metadata": {},
   "outputs": [
    {
     "data": {
      "text/plain": [
       "Ashanti          104699\n",
       "Greater Accra     91219\n",
       "Central           55765\n",
       "Western           52911\n",
       "Brong-Ahafo       49133\n",
       "Eastern           48349\n",
       "Northern          43948\n",
       "Volta             37772\n",
       "Upper East        22069\n",
       "Upper West        13316\n",
       "Unknown             236\n",
       "Name: jhs_region, dtype: int64"
      ]
     },
     "execution_count": 10,
     "metadata": {},
     "output_type": "execute_result"
    }
   ],
   "source": [
    "df['jhs_region'].str.title().str.replace(\" Region\", \"\").str.replace(\"Gr.\", \"Greater\", regex=False).str.replace(\"B.A.\", \"Brong-Ahafo\", regex=False).str.replace(\"U.\", \"Upper\", regex=False).value_counts()"
   ]
  },
  {
   "cell_type": "code",
   "execution_count": 22,
   "metadata": {},
   "outputs": [
    {
     "data": {
      "text/plain": [
       "Ashanti Region          104368\n",
       "Greater Accra Region     91115\n",
       "Central Region           55706\n",
       "Western Region           52531\n",
       "Brong-Ahafo              49046\n",
       "Eastern Region           48258\n",
       "Northern                 43948\n",
       "Volta                    37772\n",
       "Upper East               22031\n",
       "Upper West               13297\n",
       "Western                    380\n",
       "Ashanti                    331\n",
       "Unknown                    236\n",
       "Gr. Accra                  101\n",
       "Eastern                     91\n",
       "B.A.                        87\n",
       "Central                     59\n",
       "U. East                     38\n",
       "U. West                     19\n",
       "Greater Accra                3\n",
       "Name: jhs_region, dtype: int64"
      ]
     },
     "execution_count": 22,
     "metadata": {},
     "output_type": "execute_result"
    }
   ],
   "source": [
    "df['jhs_region'].str.title().value_counts()"
   ]
  },
  {
   "cell_type": "code",
   "execution_count": 24,
   "metadata": {},
   "outputs": [
    {
     "data": {
      "text/plain": [
       "Ashanti          104699\n",
       "Greater Accra     91219\n",
       "Central           55765\n",
       "Western           52911\n",
       "Brong-Ahafo       49133\n",
       "Eastern           48349\n",
       "Northern          43948\n",
       "Volta             37772\n",
       "Upper East        22069\n",
       "Upper West        13316\n",
       "Unknown             236\n",
       "Name: jhs_region, dtype: int64"
      ]
     },
     "execution_count": 24,
     "metadata": {},
     "output_type": "execute_result"
    }
   ],
   "source": [
    "(\n",
    "    df['jhs_region']\n",
    "    .str.title()\n",
    "    # .str.strip()\n",
    "    .str.replace(\" Region\", \"\")\n",
    "    .str.replace(\"Gr.\", \"Greater\", regex=False)\n",
    "    .str.replace(\"B.A.\", \"Brong-Ahafo\", regex=False)\n",
    "    .str.replace(\"U.\", \"Upper\", regex=False)\n",
    "    .value_counts()\n",
    ")"
   ]
  },
  {
   "cell_type": "code",
   "execution_count": 12,
   "metadata": {},
   "outputs": [
    {
     "data": {
      "text/plain": [
       "REL.& MORAL EDUC.     127723\n",
       "INFO. & COMM.TECH.     93492\n",
       "B.D.T./PRE-TECH.       71844\n",
       "FRENCH                 45503\n",
       "B.D.T./HOME ECONS.     42336\n",
       "ASANTE TWI             38325\n",
       "AKWAPIM TWI            19449\n",
       "DAGBANI                17348\n",
       "FANTE                  15959\n",
       "EWE                    14014\n",
       "DAGAARE                 8369\n",
       "GA                      6167\n",
       "DANGME                  5949\n",
       "GONJA                   4526\n",
       "KASEM                   2042\n",
       "B.D.T./VISUAL ARTS       576\n",
       "REL.& MORAL EDUC           5\n",
       "ICT                        2\n",
       "RME                        1\n",
       "Best 1                     1\n",
       "Name: best_elective_1_name, dtype: int64"
      ]
     },
     "execution_count": 12,
     "metadata": {},
     "output_type": "execute_result"
    }
   ],
   "source": [
    "df['best_elective_1_name'].value_counts()"
   ]
  },
  {
   "cell_type": "code",
   "execution_count": 11,
   "metadata": {},
   "outputs": [
    {
     "data": {
      "text/plain": [
       "REL.& MORAL EDUC.     128328\n",
       "INFO. & COMM.TECH.    118402\n",
       "B.D.T./HOME ECONS.     62930\n",
       "B.D.T./PRE-TECH.       55012\n",
       "ASANTE TWI             47218\n",
       "FRENCH                 35440\n",
       "FANTE                  18137\n",
       "AKWAPIM TWI            15431\n",
       "EWE                     9093\n",
       "GA                      7487\n",
       "DAGBANI                 7094\n",
       "DAGAARE                 2941\n",
       "DANGME                  2539\n",
       "GONJA                   2200\n",
       "B.D.T./VISUAL ARTS       927\n",
       "KASEM                    364\n",
       "B.D.T/PRE-TECH             1\n",
       "BDT/PRE-TECH               1\n",
       "BDT/HOME ECONS             1\n",
       "Best 2                     1\n",
       "Name: best_elective_2_name, dtype: int64"
      ]
     },
     "execution_count": 11,
     "metadata": {},
     "output_type": "execute_result"
    }
   ],
   "source": [
    "df['best_elective_2_name'].value_counts()"
   ]
  },
  {
   "cell_type": "code",
   "execution_count": 58,
   "metadata": {},
   "outputs": [
    {
     "data": {
      "text/plain": [
       "REL.& MORAL EDUC.     128328\n",
       "INFO. & COMM.TECH.    118402\n",
       "B.D.T./HOME ECONS.     62930\n",
       "BDT Pre-Tech.          55014\n",
       "ASANTE TWI             47218\n",
       "FRENCH                 35440\n",
       "FANTE                  18137\n",
       "AKWAPIM TWI            15431\n",
       "EWE                     9093\n",
       "GA                      7487\n",
       "DAGBANI                 7094\n",
       "DAGAARE                 2941\n",
       "DANGME                  2539\n",
       "GONJA                   2200\n",
       "B.D.T./VISUAL ARTS       927\n",
       "KASEM                    364\n",
       "Best 2                     1\n",
       "BDT/HOME ECONS             1\n",
       "Name: best_elective_2_name, dtype: int64"
      ]
     },
     "execution_count": 58,
     "metadata": {},
     "output_type": "execute_result"
    }
   ],
   "source": [
    "(\n",
    "    df['best_elective_2_name']\n",
    "    .str.replace('.*PRE-TECH.?', 'BDT Pre-Tech.', regex=True)\n",
    "    #.str.title()\n",
    "    .value_counts()\n",
    ")"
   ]
  },
  {
   "cell_type": "code",
   "execution_count": 13,
   "metadata": {},
   "outputs": [],
   "source": [
    "elective_ = {\n",
    "  'B.D.T./PRE-TECH': 'BDT Pre-Tech.', \n",
    "  'B.D.T/PRE-TECH': 'BDT Pre-Tech.', \n",
    "  'BDT/PRE-TECH': 'BDT Pre-Tech.', \n",
    "  'B.D.T./PRE-TECH.': 'BDT Pre-Tech.', \n",
    "  'B.D.T./HOME ECONS.': 'BDT Home Econs.', \n",
    "  'BDT/HOME ECONS': 'BDT Home Econs.', \n",
    "  'REL.& MORAL EDUC.': 'Rel. & Moral Educ.', \n",
    "  'REL.& MORAL EDUC': 'Rel. & Moral Educ.', \n",
    "  'RME': 'Rel. & Moral Educ.', \n",
    "  'INFO. & COMM.TECH.': 'Info. & Comm. Tech.', \n",
    "  'ICT': 'Info. & Comm. Tech.', \n",
    "  'B.D.T./VISUAL ARTS': 'BDT Visual Arts'  \n",
    "}"
   ]
  },
  {
   "cell_type": "code",
   "execution_count": 14,
   "metadata": {},
   "outputs": [
    {
     "data": {
      "text/plain": [
       "NaN                    183558\n",
       "Rel. & Moral Educ.     127729\n",
       "Info. & Comm. Tech.     93494\n",
       "BDT Pre-Tech.           71844\n",
       "BDT Home Econs.         42336\n",
       "BDT Visual Arts           576\n",
       "Name: best_elective_1_name, dtype: int64"
      ]
     },
     "execution_count": 14,
     "metadata": {},
     "output_type": "execute_result"
    }
   ],
   "source": [
    "df['best_elective_1_name'].map(elective_).value_counts(dropna=False)"
   ]
  },
  {
   "cell_type": "code",
   "execution_count": 15,
   "metadata": {},
   "outputs": [],
   "source": [
    "def mutate_elective_(x):\n",
    "    elective_ = {\n",
    "  'B.D.T./PRE-TECH': 'BDT Pre-Tech.', \n",
    "  'B.D.T/PRE-TECH': 'BDT Pre-Tech.', \n",
    "  'BDT/PRE-TECH': 'BDT Pre-Tech.', \n",
    "  'B.D.T./PRE-TECH.': 'BDT Pre-Tech.', \n",
    "  'B.D.T./HOME ECONS.': 'BDT Home Econs.', \n",
    "  'BDT/HOME ECONS': 'BDT Home Econs.', \n",
    "  'REL.& MORAL EDUC.': 'Rel. & Moral Educ.', \n",
    "  'REL.& MORAL EDUC': 'Rel. & Moral Educ.', \n",
    "  'RME': 'Rel. & Moral Educ.', \n",
    "  'INFO. & COMM.TECH.': 'Info. & Comm. Tech.', \n",
    "  'ICT': 'Info. & Comm. Tech.', \n",
    "  'B.D.T./VISUAL ARTS': 'BDT Visual Arts'  \n",
    "}\n",
    "    if x in elective_.keys():\n",
    "        return elective_.get(x)\n",
    "    return x.title()"
   ]
  },
  {
   "cell_type": "code",
   "execution_count": 17,
   "metadata": {},
   "outputs": [
    {
     "data": {
      "text/plain": [
       "Rel. & Moral Educ.     127729\n",
       "Info. & Comm. Tech.     93494\n",
       "BDT Pre-Tech.           71844\n",
       "French                  45503\n",
       "BDT Home Econs.         42336\n",
       "Asante Twi              38325\n",
       "Akwapim Twi             19449\n",
       "Dagbani                 17348\n",
       "Fante                   15959\n",
       "Ewe                     14014\n",
       "Dagaare                  8369\n",
       "Ga                       6167\n",
       "Dangme                   5949\n",
       "NaN                      5906\n",
       "Gonja                    4526\n",
       "Kasem                    2042\n",
       "BDT Visual Arts           576\n",
       "Best 1                      1\n",
       "Name: best_elective_1_name, dtype: int64"
      ]
     },
     "execution_count": 17,
     "metadata": {},
     "output_type": "execute_result"
    }
   ],
   "source": [
    "df['best_elective_1_name'].map(mutate_elective_, na_action=\"ignore\").value_counts(dropna=False)"
   ]
  },
  {
   "cell_type": "code",
   "execution_count": 35,
   "metadata": {},
   "outputs": [],
   "source": [
    "elective = {\n",
    "  \"BDT Pre-Tech.\": [\"B.D.T./PRE-TECH\", \"B.D.T/PRE-TECH\", \"BDT/PRE-TECH\", \"B.D.T./PRE-TECH.\"],\n",
    "  \"BDT Home Econs.\": [\"B.D.T./HOME ECONS.\", \"BDT/HOME ECONS\"],\n",
    "  \"Rel. & Moral Educ.\": [\"REL.& MORAL EDUC.\", \"RME\", \"REL.& MORAL EDUC\"],\n",
    "  \"Info. & Comm. Tech.\": [\"INFO. & COMM.TECH.\", \"ICT\"],\n",
    "  \"BDT Visual Arts\": [\"B.D.T./VISUAL ARTS\"]\n",
    "}"
   ]
  },
  {
   "cell_type": "code",
   "execution_count": null,
   "metadata": {},
   "outputs": [],
   "source": [
    "def mutate_elective_(x):\n",
    "  for key, value in elective.items():\n",
    "    if x in value:\n",
    "      return key\n",
    "  return x.title()"
   ]
  },
  {
   "cell_type": "code",
   "execution_count": 18,
   "metadata": {},
   "outputs": [],
   "source": [
    "def mutate_elective(x):\n",
    "    if x in [\"B.D.T./PRE-TECH\", \"B.D.T/PRE-TECH\", \"BDT/PRE-TECH\", \"B.D.T./PRE-TECH.\"]:\n",
    "        return \"BDT Pre-Tech.\"\n",
    "    elif x in [\"B.D.T./HOME ECONS.\", \"BDT/HOME ECONS\"]:\n",
    "        return \"BDT Home Econs.\"\n",
    "    elif x in [\"REL.& MORAL EDUC.\", \"RME\", \"REL.& MORAL EDUC\"]:\n",
    "        return \"Rel. & Moral Educ.\"\n",
    "    elif x in [\"INFO. & COMM.TECH.\", \"ICT\"]:\n",
    "        return \"Info. & Comm. Tech.\"\n",
    "    elif x in [\"B.D.T./VISUAL ARTS\"]:\n",
    "        return \"BDT Visual Arts\"\n",
    "    else:\n",
    "        return x.title()"
   ]
  },
  {
   "cell_type": "code",
   "execution_count": 19,
   "metadata": {},
   "outputs": [],
   "source": [
    "df['best_elective_1_name'] = df['best_elective_1_name'].map(mutate_elective, na_action=\"ignore\")"
   ]
  },
  {
   "cell_type": "code",
   "execution_count": 20,
   "metadata": {},
   "outputs": [],
   "source": [
    "df['best_elective_2_name'] = df['best_elective_2_name'].map(mutate_elective, na_action=\"ignore\")"
   ]
  },
  {
   "cell_type": "code",
   "execution_count": 25,
   "metadata": {},
   "outputs": [
    {
     "data": {
      "text/plain": [
       "PUBLIC     393713\n",
       "PRIVATE    125466\n",
       "Unknown       236\n",
       "Name: jhs_type, dtype: int64"
      ]
     },
     "execution_count": 25,
     "metadata": {},
     "output_type": "execute_result"
    }
   ],
   "source": [
    "df[\"jhs_type\"].value_counts()"
   ]
  },
  {
   "cell_type": "code",
   "execution_count": 24,
   "metadata": {},
   "outputs": [
    {
     "data": {
      "text/html": [
       "<div>\n",
       "<style scoped>\n",
       "    .dataframe tbody tr th:only-of-type {\n",
       "        vertical-align: middle;\n",
       "    }\n",
       "\n",
       "    .dataframe tbody tr th {\n",
       "        vertical-align: top;\n",
       "    }\n",
       "\n",
       "    .dataframe thead th {\n",
       "        text-align: right;\n",
       "    }\n",
       "</style>\n",
       "<table border=\"1\" class=\"dataframe\">\n",
       "  <thead>\n",
       "    <tr style=\"text-align: right;\">\n",
       "      <th></th>\n",
       "      <th>index_no</th>\n",
       "      <th>gender</th>\n",
       "      <th>jhs_code</th>\n",
       "      <th>jhs_district</th>\n",
       "      <th>jhs_region</th>\n",
       "      <th>jhs_type</th>\n",
       "      <th>shs_code</th>\n",
       "      <th>shs_name</th>\n",
       "      <th>options</th>\n",
       "      <th>english</th>\n",
       "      <th>...</th>\n",
       "      <th>best_elective_1_name</th>\n",
       "      <th>best_elective_1_score</th>\n",
       "      <th>best_elective_1_aggregate</th>\n",
       "      <th>best_elective_2_name</th>\n",
       "      <th>best_elective_2_score</th>\n",
       "      <th>best_elective_2_aggregate</th>\n",
       "      <th>count_of_ones</th>\n",
       "      <th>aggregate</th>\n",
       "      <th>raw_score</th>\n",
       "      <th>dtrack</th>\n",
       "    </tr>\n",
       "  </thead>\n",
       "  <tbody>\n",
       "    <tr>\n",
       "      <th>0</th>\n",
       "      <td>22441</td>\n",
       "      <td>Female</td>\n",
       "      <td>15096</td>\n",
       "      <td>LA DADE-KOTOPON MUNICIPAL</td>\n",
       "      <td>Greater Accra Region</td>\n",
       "      <td>PRIVATE</td>\n",
       "      <td>30107.0</td>\n",
       "      <td>Wesley Girls Senior High, Cape Coast</td>\n",
       "      <td>A</td>\n",
       "      <td>87.0</td>\n",
       "      <td>...</td>\n",
       "      <td>BDT Pre-Tech.</td>\n",
       "      <td>85.0</td>\n",
       "      <td>1.0</td>\n",
       "      <td>French</td>\n",
       "      <td>86.0</td>\n",
       "      <td>1.0</td>\n",
       "      <td>9.0</td>\n",
       "      <td>6.0</td>\n",
       "      <td>570.0</td>\n",
       "      <td>Gold</td>\n",
       "    </tr>\n",
       "    <tr>\n",
       "      <th>1</th>\n",
       "      <td>257396</td>\n",
       "      <td>Male</td>\n",
       "      <td>13403</td>\n",
       "      <td>SUNYANI WEST</td>\n",
       "      <td>Brong-Ahafo</td>\n",
       "      <td>PRIVATE</td>\n",
       "      <td>60106.0</td>\n",
       "      <td>St. James Sem &amp; Senior High, Abesim</td>\n",
       "      <td>A</td>\n",
       "      <td>91.0</td>\n",
       "      <td>...</td>\n",
       "      <td>BDT Pre-Tech.</td>\n",
       "      <td>87.0</td>\n",
       "      <td>1.0</td>\n",
       "      <td>French</td>\n",
       "      <td>89.0</td>\n",
       "      <td>1.0</td>\n",
       "      <td>9.0</td>\n",
       "      <td>6.0</td>\n",
       "      <td>567.0</td>\n",
       "      <td>Green</td>\n",
       "    </tr>\n",
       "    <tr>\n",
       "      <th>2</th>\n",
       "      <td>401850</td>\n",
       "      <td>Male</td>\n",
       "      <td>13403</td>\n",
       "      <td>SUNYANI WEST</td>\n",
       "      <td>Brong-Ahafo</td>\n",
       "      <td>PRIVATE</td>\n",
       "      <td>60106.0</td>\n",
       "      <td>St. James Sem &amp; Senior High, Abesim</td>\n",
       "      <td>A</td>\n",
       "      <td>88.0</td>\n",
       "      <td>...</td>\n",
       "      <td>BDT Pre-Tech.</td>\n",
       "      <td>85.0</td>\n",
       "      <td>1.0</td>\n",
       "      <td>French</td>\n",
       "      <td>90.0</td>\n",
       "      <td>1.0</td>\n",
       "      <td>9.0</td>\n",
       "      <td>6.0</td>\n",
       "      <td>566.0</td>\n",
       "      <td>Green</td>\n",
       "    </tr>\n",
       "    <tr>\n",
       "      <th>3</th>\n",
       "      <td>351070</td>\n",
       "      <td>Female</td>\n",
       "      <td>6349</td>\n",
       "      <td>AWUTU-SENYA EAST MUNICIPAL</td>\n",
       "      <td>Central Region</td>\n",
       "      <td>PRIVATE</td>\n",
       "      <td>30107.0</td>\n",
       "      <td>Wesley Girls Senior High, Cape Coast</td>\n",
       "      <td>A</td>\n",
       "      <td>82.0</td>\n",
       "      <td>...</td>\n",
       "      <td>BDT Pre-Tech.</td>\n",
       "      <td>90.0</td>\n",
       "      <td>1.0</td>\n",
       "      <td>French</td>\n",
       "      <td>91.0</td>\n",
       "      <td>1.0</td>\n",
       "      <td>9.0</td>\n",
       "      <td>6.0</td>\n",
       "      <td>564.0</td>\n",
       "      <td>Green</td>\n",
       "    </tr>\n",
       "    <tr>\n",
       "      <th>4</th>\n",
       "      <td>230932</td>\n",
       "      <td>Female</td>\n",
       "      <td>8325</td>\n",
       "      <td>ACCRA METROPOLITAN</td>\n",
       "      <td>Greater Accra Region</td>\n",
       "      <td>PRIVATE</td>\n",
       "      <td>30107.0</td>\n",
       "      <td>Wesley Girls Senior High, Cape Coast</td>\n",
       "      <td>A</td>\n",
       "      <td>88.0</td>\n",
       "      <td>...</td>\n",
       "      <td>French</td>\n",
       "      <td>93.0</td>\n",
       "      <td>1.0</td>\n",
       "      <td>Rel. &amp; Moral Educ.</td>\n",
       "      <td>89.0</td>\n",
       "      <td>1.0</td>\n",
       "      <td>9.0</td>\n",
       "      <td>6.0</td>\n",
       "      <td>562.0</td>\n",
       "      <td>Gold</td>\n",
       "    </tr>\n",
       "  </tbody>\n",
       "</table>\n",
       "<p>5 rows × 26 columns</p>\n",
       "</div>"
      ],
      "text/plain": [
       "   index_no  gender  jhs_code                jhs_district  \\\n",
       "0     22441  Female     15096   LA DADE-KOTOPON MUNICIPAL   \n",
       "1    257396    Male     13403                SUNYANI WEST   \n",
       "2    401850    Male     13403                SUNYANI WEST   \n",
       "3    351070  Female      6349  AWUTU-SENYA EAST MUNICIPAL   \n",
       "4    230932  Female      8325          ACCRA METROPOLITAN   \n",
       "\n",
       "             jhs_region jhs_type  shs_code  \\\n",
       "0  Greater Accra Region  PRIVATE   30107.0   \n",
       "1           Brong-Ahafo  PRIVATE   60106.0   \n",
       "2           Brong-Ahafo  PRIVATE   60106.0   \n",
       "3        Central Region  PRIVATE   30107.0   \n",
       "4  Greater Accra Region  PRIVATE   30107.0   \n",
       "\n",
       "                               shs_name options  english  ...  \\\n",
       "0  Wesley Girls Senior High, Cape Coast       A     87.0  ...   \n",
       "1   St. James Sem & Senior High, Abesim       A     91.0  ...   \n",
       "2   St. James Sem & Senior High, Abesim       A     88.0  ...   \n",
       "3  Wesley Girls Senior High, Cape Coast       A     82.0  ...   \n",
       "4  Wesley Girls Senior High, Cape Coast       A     88.0  ...   \n",
       "\n",
       "   best_elective_1_name  best_elective_1_score  best_elective_1_aggregate  \\\n",
       "0         BDT Pre-Tech.                   85.0                        1.0   \n",
       "1         BDT Pre-Tech.                   87.0                        1.0   \n",
       "2         BDT Pre-Tech.                   85.0                        1.0   \n",
       "3         BDT Pre-Tech.                   90.0                        1.0   \n",
       "4                French                   93.0                        1.0   \n",
       "\n",
       "   best_elective_2_name  best_elective_2_score  best_elective_2_aggregate  \\\n",
       "0                French                   86.0                        1.0   \n",
       "1                French                   89.0                        1.0   \n",
       "2                French                   90.0                        1.0   \n",
       "3                French                   91.0                        1.0   \n",
       "4    Rel. & Moral Educ.                   89.0                        1.0   \n",
       "\n",
       "  count_of_ones  aggregate  raw_score dtrack  \n",
       "0           9.0        6.0      570.0   Gold  \n",
       "1           9.0        6.0      567.0  Green  \n",
       "2           9.0        6.0      566.0  Green  \n",
       "3           9.0        6.0      564.0  Green  \n",
       "4           9.0        6.0      562.0   Gold  \n",
       "\n",
       "[5 rows x 26 columns]"
      ]
     },
     "execution_count": 24,
     "metadata": {},
     "output_type": "execute_result"
    }
   ],
   "source": [
    "df.head()"
   ]
  },
  {
   "cell_type": "code",
   "execution_count": 23,
   "metadata": {},
   "outputs": [
    {
     "data": {
      "text/plain": [
       "ACCRA METROPOLITAN               24066\n",
       "KUMASI METROPOLITAN              23645\n",
       "GA WEST MUNICIPAL                 9848\n",
       "GA SOUTH MUNICIPAL                8273\n",
       "SEKONDI/TAKORADI METROPOLITAN     8273\n",
       "                                 ...  \n",
       "Unknown                            236\n",
       "Not Available                       94\n",
       "Shai-Osudoku                         2\n",
       "Accra Metro                          1\n",
       "WA Municipal                         1\n",
       "Name: jhs_district, Length: 221, dtype: int64"
      ]
     },
     "execution_count": 23,
     "metadata": {},
     "output_type": "execute_result"
    }
   ],
   "source": [
    "df['jhs_district'].value_counts()"
   ]
  }
 ],
 "metadata": {
  "kernelspec": {
   "display_name": "base",
   "language": "python",
   "name": "python3"
  },
  "language_info": {
   "codemirror_mode": {
    "name": "ipython",
    "version": 3
   },
   "file_extension": ".py",
   "mimetype": "text/x-python",
   "name": "python",
   "nbconvert_exporter": "python",
   "pygments_lexer": "ipython3",
   "version": "3.8.8"
  },
  "orig_nbformat": 4,
  "vscode": {
   "interpreter": {
    "hash": "8602ab2c3388629891678afcd302d55cf8f09071ac181019a4e33980ecf48fe4"
   }
  }
 },
 "nbformat": 4,
 "nbformat_minor": 2
}
