{
 "cells": [
  {
   "attachments": {},
   "cell_type": "markdown",
   "metadata": {},
   "source": [
    "## Data Access\n",
    "\n",
    "The data file is encrypted and hence ought to be decrypted to access the content. This means, one will need a decryption key which can be supplied to the `read_encrypted()` function. Though, you can paste the key into the code (as in Case 1), avoid this and enter the key via the `getpass()` function (as in Case 2). Note that, when entring the key via `getpass()`, the content of what you are typing will be masked or not seen at all. The simplest way is to copy and paste the key when prompted and then hit the enter key.\n",
    "\n",
    "> When you have been able to access the data, please do not save it to file. Also, remember not to share the data or the key with anyone."
   ]
  },
  {
   "cell_type": "code",
   "execution_count": 1,
   "metadata": {},
   "outputs": [],
   "source": [
    "import utils.read_encrypted as ure\n",
    "import utils.clean_bece as ucl\n",
    "import getpass\n",
    "import seaborn as sns"
   ]
  },
  {
   "attachments": {},
   "cell_type": "markdown",
   "metadata": {},
   "source": [
    "### Case 1"
   ]
  },
  {
   "cell_type": "code",
   "execution_count": null,
   "metadata": {},
   "outputs": [],
   "source": [
    "# df = ure.read_encrypted(\"data/bece-encrypted.zip\", b'paste-key-here')"
   ]
  },
  {
   "attachments": {},
   "cell_type": "markdown",
   "metadata": {},
   "source": [
    "### Case 2"
   ]
  },
  {
   "cell_type": "code",
   "execution_count": 2,
   "metadata": {},
   "outputs": [],
   "source": [
    "dt = ure.read_encrypted(\n",
    "    \"data/bece-encrypted.zip\", \n",
    "    bytes(getpass.getpass(\"Enter key: \"), \"utf-8\")\n",
    ")"
   ]
  },
  {
   "cell_type": "code",
   "execution_count": 4,
   "metadata": {},
   "outputs": [],
   "source": [
    "df = ucl.clean_bece(dt)"
   ]
  },
  {
   "cell_type": "code",
   "execution_count": 5,
   "metadata": {},
   "outputs": [
    {
     "name": "stdout",
     "output_type": "stream",
     "text": [
      "<class 'pandas.core.frame.DataFrame'>\n",
      "RangeIndex: 519537 entries, 0 to 519536\n",
      "Data columns (total 26 columns):\n",
      " #   Column                     Non-Null Count   Dtype   \n",
      "---  ------                     --------------   -----   \n",
      " 0   index_no                   519537 non-null  int64   \n",
      " 1   gender                     519537 non-null  category\n",
      " 2   jhs_code                   519537 non-null  int64   \n",
      " 3   jhs_district               519415 non-null  object  \n",
      " 4   jhs_region                 519417 non-null  object  \n",
      " 5   jhs_type                   519415 non-null  category\n",
      " 6   shs_code                   459967 non-null  float64 \n",
      " 7   shs_name                   459967 non-null  object  \n",
      " 8   options                    459967 non-null  object  \n",
      " 9   english                    519477 non-null  float64 \n",
      " 10  maths                      519477 non-null  float64 \n",
      " 11  socstudies                 519477 non-null  float64 \n",
      " 12  rme                        519477 non-null  float64 \n",
      " 13  intscience                 519477 non-null  float64 \n",
      " 14  ict                        519477 non-null  float64 \n",
      " 15  french                     519477 non-null  float64 \n",
      " 16  best_elective_1_name       513631 non-null  object  \n",
      " 17  best_elective_1_score      518205 non-null  float64 \n",
      " 18  best_elective_1_aggregate  518205 non-null  float64 \n",
      " 19  best_elective_2_name       513547 non-null  object  \n",
      " 20  best_elective_2_score      518205 non-null  float64 \n",
      " 21  best_elective_2_aggregate  518205 non-null  float64 \n",
      " 22  count_of_ones              519483 non-null  float64 \n",
      " 23  aggregate                  519483 non-null  float64 \n",
      " 24  raw_score                  519483 non-null  float64 \n",
      " 25  dtrack                     518572 non-null  category\n",
      "dtypes: category(3), float64(15), int64(2), object(6)\n",
      "memory usage: 92.7+ MB\n"
     ]
    }
   ],
   "source": [
    "df.info()"
   ]
  },
  {
   "cell_type": "code",
   "execution_count": null,
   "metadata": {},
   "outputs": [],
   "source": [
    "df.isnull().sum()"
   ]
  },
  {
   "cell_type": "code",
   "execution_count": 6,
   "metadata": {},
   "outputs": [
    {
     "data": {
      "text/html": [
       "<div>\n",
       "<style scoped>\n",
       "    .dataframe tbody tr th:only-of-type {\n",
       "        vertical-align: middle;\n",
       "    }\n",
       "\n",
       "    .dataframe tbody tr th {\n",
       "        vertical-align: top;\n",
       "    }\n",
       "\n",
       "    .dataframe thead th {\n",
       "        text-align: right;\n",
       "    }\n",
       "</style>\n",
       "<table border=\"1\" class=\"dataframe\">\n",
       "  <thead>\n",
       "    <tr style=\"text-align: right;\">\n",
       "      <th></th>\n",
       "      <th>english</th>\n",
       "      <th>maths</th>\n",
       "      <th>intscience</th>\n",
       "    </tr>\n",
       "  </thead>\n",
       "  <tbody>\n",
       "    <tr>\n",
       "      <th>english</th>\n",
       "      <td>1.000000</td>\n",
       "      <td>0.682681</td>\n",
       "      <td>0.787897</td>\n",
       "    </tr>\n",
       "    <tr>\n",
       "      <th>maths</th>\n",
       "      <td>0.682681</td>\n",
       "      <td>1.000000</td>\n",
       "      <td>0.770653</td>\n",
       "    </tr>\n",
       "    <tr>\n",
       "      <th>intscience</th>\n",
       "      <td>0.787897</td>\n",
       "      <td>0.770653</td>\n",
       "      <td>1.000000</td>\n",
       "    </tr>\n",
       "  </tbody>\n",
       "</table>\n",
       "</div>"
      ],
      "text/plain": [
       "             english     maths  intscience\n",
       "english     1.000000  0.682681    0.787897\n",
       "maths       0.682681  1.000000    0.770653\n",
       "intscience  0.787897  0.770653    1.000000"
      ]
     },
     "execution_count": 6,
     "metadata": {},
     "output_type": "execute_result"
    }
   ],
   "source": [
    "df[[\"english\", \"maths\", \"intscience\"]].dropna().corr()"
   ]
  },
  {
   "cell_type": "code",
   "execution_count": 47,
   "metadata": {},
   "outputs": [
    {
     "data": {
      "text/plain": [
       "C    220783\n",
       "B    163765\n",
       "A     47076\n",
       "E     28343\n",
       "Name: options, dtype: int64"
      ]
     },
     "execution_count": 47,
     "metadata": {},
     "output_type": "execute_result"
    }
   ],
   "source": [
    "df.options.value_counts()"
   ]
  },
  {
   "cell_type": "code",
   "execution_count": 50,
   "metadata": {},
   "outputs": [
    {
     "data": {
      "text/html": [
       "<div>\n",
       "<style scoped>\n",
       "    .dataframe tbody tr th:only-of-type {\n",
       "        vertical-align: middle;\n",
       "    }\n",
       "\n",
       "    .dataframe tbody tr th {\n",
       "        vertical-align: top;\n",
       "    }\n",
       "\n",
       "    .dataframe thead th {\n",
       "        text-align: right;\n",
       "    }\n",
       "</style>\n",
       "<table border=\"1\" class=\"dataframe\">\n",
       "  <thead>\n",
       "    <tr style=\"text-align: right;\">\n",
       "      <th></th>\n",
       "      <th>english</th>\n",
       "      <th>maths</th>\n",
       "      <th>intscience</th>\n",
       "      <th>raw_score</th>\n",
       "    </tr>\n",
       "  </thead>\n",
       "  <tbody>\n",
       "    <tr>\n",
       "      <th>count</th>\n",
       "      <td>519477.000000</td>\n",
       "      <td>519477.000000</td>\n",
       "      <td>519477.000000</td>\n",
       "      <td>519477.000000</td>\n",
       "    </tr>\n",
       "    <tr>\n",
       "      <th>mean</th>\n",
       "      <td>39.286783</td>\n",
       "      <td>53.506515</td>\n",
       "      <td>41.796378</td>\n",
       "      <td>310.877627</td>\n",
       "    </tr>\n",
       "    <tr>\n",
       "      <th>std</th>\n",
       "      <td>14.986149</td>\n",
       "      <td>19.790591</td>\n",
       "      <td>16.487609</td>\n",
       "      <td>91.851255</td>\n",
       "    </tr>\n",
       "    <tr>\n",
       "      <th>min</th>\n",
       "      <td>0.000000</td>\n",
       "      <td>0.000000</td>\n",
       "      <td>0.000000</td>\n",
       "      <td>0.000000</td>\n",
       "    </tr>\n",
       "    <tr>\n",
       "      <th>25%</th>\n",
       "      <td>29.000000</td>\n",
       "      <td>39.000000</td>\n",
       "      <td>30.000000</td>\n",
       "      <td>252.000000</td>\n",
       "    </tr>\n",
       "    <tr>\n",
       "      <th>50%</th>\n",
       "      <td>39.000000</td>\n",
       "      <td>53.000000</td>\n",
       "      <td>41.000000</td>\n",
       "      <td>314.000000</td>\n",
       "    </tr>\n",
       "    <tr>\n",
       "      <th>75%</th>\n",
       "      <td>50.000000</td>\n",
       "      <td>68.000000</td>\n",
       "      <td>53.000000</td>\n",
       "      <td>375.000000</td>\n",
       "    </tr>\n",
       "    <tr>\n",
       "      <th>max</th>\n",
       "      <td>91.000000</td>\n",
       "      <td>100.000000</td>\n",
       "      <td>96.000000</td>\n",
       "      <td>570.000000</td>\n",
       "    </tr>\n",
       "  </tbody>\n",
       "</table>\n",
       "</div>"
      ],
      "text/plain": [
       "             english          maths     intscience      raw_score\n",
       "count  519477.000000  519477.000000  519477.000000  519477.000000\n",
       "mean       39.286783      53.506515      41.796378     310.877627\n",
       "std        14.986149      19.790591      16.487609      91.851255\n",
       "min         0.000000       0.000000       0.000000       0.000000\n",
       "25%        29.000000      39.000000      30.000000     252.000000\n",
       "50%        39.000000      53.000000      41.000000     314.000000\n",
       "75%        50.000000      68.000000      53.000000     375.000000\n",
       "max        91.000000     100.000000      96.000000     570.000000"
      ]
     },
     "execution_count": 50,
     "metadata": {},
     "output_type": "execute_result"
    }
   ],
   "source": [
    "df[[\"english\", \"maths\", \"intscience\", \"raw_score\"]].dropna().describe()"
   ]
  },
  {
   "cell_type": "code",
   "execution_count": 58,
   "metadata": {},
   "outputs": [
    {
     "data": {
      "text/plain": [
       "Ashanti          1190\n",
       "Western           795\n",
       "Northern          696\n",
       "Greater Accra     627\n",
       "Brong-Ahafo       564\n",
       "Eastern           562\n",
       "Central           458\n",
       "Volta             278\n",
       "Upper East        271\n",
       "Upper West        141\n",
       "Unknown            22\n",
       "Name: jhs_region, dtype: int64"
      ]
     },
     "execution_count": 58,
     "metadata": {},
     "output_type": "execute_result"
    }
   ],
   "source": [
    "df[df.raw_score == 0].jhs_region.value_counts()"
   ]
  },
  {
   "cell_type": "code",
   "execution_count": 56,
   "metadata": {},
   "outputs": [
    {
     "data": {
      "text/plain": [
       "(508, 26)"
      ]
     },
     "execution_count": 56,
     "metadata": {},
     "output_type": "execute_result"
    }
   ],
   "source": [
    "df[df.jhs_code == 7006].shape"
   ]
  },
  {
   "cell_type": "code",
   "execution_count": 69,
   "metadata": {},
   "outputs": [
    {
     "data": {
      "text/html": [
       "<div>\n",
       "<style scoped>\n",
       "    .dataframe tbody tr th:only-of-type {\n",
       "        vertical-align: middle;\n",
       "    }\n",
       "\n",
       "    .dataframe tbody tr th {\n",
       "        vertical-align: top;\n",
       "    }\n",
       "\n",
       "    .dataframe thead th {\n",
       "        text-align: right;\n",
       "    }\n",
       "</style>\n",
       "<table border=\"1\" class=\"dataframe\">\n",
       "  <thead>\n",
       "    <tr style=\"text-align: right;\">\n",
       "      <th></th>\n",
       "      <th>aggregate</th>\n",
       "      <th>raw_score</th>\n",
       "    </tr>\n",
       "  </thead>\n",
       "  <tbody>\n",
       "    <tr>\n",
       "      <th>126731</th>\n",
       "      <td>22.0</td>\n",
       "      <td>379.0</td>\n",
       "    </tr>\n",
       "    <tr>\n",
       "      <th>183426</th>\n",
       "      <td>26.0</td>\n",
       "      <td>342.0</td>\n",
       "    </tr>\n",
       "    <tr>\n",
       "      <th>252834</th>\n",
       "      <td>31.0</td>\n",
       "      <td>301.0</td>\n",
       "    </tr>\n",
       "    <tr>\n",
       "      <th>351028</th>\n",
       "      <td>8.0</td>\n",
       "      <td>488.0</td>\n",
       "    </tr>\n",
       "    <tr>\n",
       "      <th>351037</th>\n",
       "      <td>9.0</td>\n",
       "      <td>499.0</td>\n",
       "    </tr>\n",
       "    <tr>\n",
       "      <th>...</th>\n",
       "      <td>...</td>\n",
       "      <td>...</td>\n",
       "    </tr>\n",
       "    <tr>\n",
       "      <th>519519</th>\n",
       "      <td>26.0</td>\n",
       "      <td>349.0</td>\n",
       "    </tr>\n",
       "    <tr>\n",
       "      <th>519520</th>\n",
       "      <td>0.0</td>\n",
       "      <td>0.0</td>\n",
       "    </tr>\n",
       "    <tr>\n",
       "      <th>519521</th>\n",
       "      <td>23.0</td>\n",
       "      <td>363.0</td>\n",
       "    </tr>\n",
       "    <tr>\n",
       "      <th>519524</th>\n",
       "      <td>0.0</td>\n",
       "      <td>0.0</td>\n",
       "    </tr>\n",
       "    <tr>\n",
       "      <th>519525</th>\n",
       "      <td>0.0</td>\n",
       "      <td>0.0</td>\n",
       "    </tr>\n",
       "  </tbody>\n",
       "</table>\n",
       "<p>59570 rows × 2 columns</p>\n",
       "</div>"
      ],
      "text/plain": [
       "        aggregate  raw_score\n",
       "126731       22.0      379.0\n",
       "183426       26.0      342.0\n",
       "252834       31.0      301.0\n",
       "351028        8.0      488.0\n",
       "351037        9.0      499.0\n",
       "...           ...        ...\n",
       "519519       26.0      349.0\n",
       "519520        0.0        0.0\n",
       "519521       23.0      363.0\n",
       "519524        0.0        0.0\n",
       "519525        0.0        0.0\n",
       "\n",
       "[59570 rows x 2 columns]"
      ]
     },
     "execution_count": 69,
     "metadata": {},
     "output_type": "execute_result"
    }
   ],
   "source": [
    "df[df.shs_name.isna()][[\"aggregate\", \"raw_score\"]]"
   ]
  },
  {
   "cell_type": "code",
   "execution_count": 90,
   "metadata": {},
   "outputs": [
    {
     "data": {
      "text/html": [
       "<div>\n",
       "<style scoped>\n",
       "    .dataframe tbody tr th:only-of-type {\n",
       "        vertical-align: middle;\n",
       "    }\n",
       "\n",
       "    .dataframe tbody tr th {\n",
       "        vertical-align: top;\n",
       "    }\n",
       "\n",
       "    .dataframe thead tr th {\n",
       "        text-align: left;\n",
       "    }\n",
       "\n",
       "    .dataframe thead tr:last-of-type th {\n",
       "        text-align: right;\n",
       "    }\n",
       "</style>\n",
       "<table border=\"1\" class=\"dataframe\">\n",
       "  <thead>\n",
       "    <tr>\n",
       "      <th></th>\n",
       "      <th colspan=\"8\" halign=\"left\">raw_score</th>\n",
       "    </tr>\n",
       "    <tr>\n",
       "      <th></th>\n",
       "      <th>count</th>\n",
       "      <th>mean</th>\n",
       "      <th>std</th>\n",
       "      <th>min</th>\n",
       "      <th>25%</th>\n",
       "      <th>50%</th>\n",
       "      <th>75%</th>\n",
       "      <th>max</th>\n",
       "    </tr>\n",
       "    <tr>\n",
       "      <th>options</th>\n",
       "      <th></th>\n",
       "      <th></th>\n",
       "      <th></th>\n",
       "      <th></th>\n",
       "      <th></th>\n",
       "      <th></th>\n",
       "      <th></th>\n",
       "      <th></th>\n",
       "    </tr>\n",
       "  </thead>\n",
       "  <tbody>\n",
       "    <tr>\n",
       "      <th>A</th>\n",
       "      <td>47054.0</td>\n",
       "      <td>428.931355</td>\n",
       "      <td>60.153954</td>\n",
       "      <td>83.0</td>\n",
       "      <td>395.0</td>\n",
       "      <td>436.0</td>\n",
       "      <td>472.0</td>\n",
       "      <td>570.0</td>\n",
       "    </tr>\n",
       "    <tr>\n",
       "      <th>B</th>\n",
       "      <td>163739.0</td>\n",
       "      <td>351.116362</td>\n",
       "      <td>63.200203</td>\n",
       "      <td>41.0</td>\n",
       "      <td>312.0</td>\n",
       "      <td>353.0</td>\n",
       "      <td>394.0</td>\n",
       "      <td>570.0</td>\n",
       "    </tr>\n",
       "    <tr>\n",
       "      <th>C</th>\n",
       "      <td>220777.0</td>\n",
       "      <td>293.774655</td>\n",
       "      <td>65.624585</td>\n",
       "      <td>0.0</td>\n",
       "      <td>247.0</td>\n",
       "      <td>291.0</td>\n",
       "      <td>339.0</td>\n",
       "      <td>529.0</td>\n",
       "    </tr>\n",
       "    <tr>\n",
       "      <th>E</th>\n",
       "      <td>28343.0</td>\n",
       "      <td>297.534135</td>\n",
       "      <td>70.430555</td>\n",
       "      <td>93.0</td>\n",
       "      <td>245.0</td>\n",
       "      <td>295.0</td>\n",
       "      <td>350.0</td>\n",
       "      <td>512.0</td>\n",
       "    </tr>\n",
       "  </tbody>\n",
       "</table>\n",
       "</div>"
      ],
      "text/plain": [
       "        raw_score                                                         \n",
       "            count        mean        std   min    25%    50%    75%    max\n",
       "options                                                                   \n",
       "A         47054.0  428.931355  60.153954  83.0  395.0  436.0  472.0  570.0\n",
       "B        163739.0  351.116362  63.200203  41.0  312.0  353.0  394.0  570.0\n",
       "C        220777.0  293.774655  65.624585   0.0  247.0  291.0  339.0  529.0\n",
       "E         28343.0  297.534135  70.430555  93.0  245.0  295.0  350.0  512.0"
      ]
     },
     "execution_count": 90,
     "metadata": {},
     "output_type": "execute_result"
    }
   ],
   "source": [
    "df[[\"raw_score\", \"options\"]].dropna().groupby([\"options\"]).describe()"
   ]
  },
  {
   "cell_type": "code",
   "execution_count": 18,
   "metadata": {},
   "outputs": [
    {
     "data": {
      "text/plain": [
       "59570"
      ]
     },
     "execution_count": 18,
     "metadata": {},
     "output_type": "execute_result"
    }
   ],
   "source": [
    "df.isnull().sum().max()"
   ]
  },
  {
   "cell_type": "code",
   "execution_count": 20,
   "metadata": {},
   "outputs": [
    {
     "data": {
      "text/html": [
       "<div>\n",
       "<style scoped>\n",
       "    .dataframe tbody tr th:only-of-type {\n",
       "        vertical-align: middle;\n",
       "    }\n",
       "\n",
       "    .dataframe tbody tr th {\n",
       "        vertical-align: top;\n",
       "    }\n",
       "\n",
       "    .dataframe thead th {\n",
       "        text-align: right;\n",
       "    }\n",
       "</style>\n",
       "<table border=\"1\" class=\"dataframe\">\n",
       "  <thead>\n",
       "    <tr style=\"text-align: right;\">\n",
       "      <th></th>\n",
       "      <th>index_no</th>\n",
       "      <th>jhs_code</th>\n",
       "      <th>shs_code</th>\n",
       "      <th>english</th>\n",
       "      <th>maths</th>\n",
       "      <th>socstudies</th>\n",
       "      <th>rme</th>\n",
       "      <th>intscience</th>\n",
       "      <th>ict</th>\n",
       "      <th>french</th>\n",
       "      <th>best_elective_1_score</th>\n",
       "      <th>best_elective_1_aggregate</th>\n",
       "      <th>best_elective_2_score</th>\n",
       "      <th>best_elective_2_aggregate</th>\n",
       "      <th>count_of_ones</th>\n",
       "      <th>aggregate</th>\n",
       "      <th>raw_score</th>\n",
       "    </tr>\n",
       "  </thead>\n",
       "  <tbody>\n",
       "    <tr>\n",
       "      <th>count</th>\n",
       "      <td>519537.000000</td>\n",
       "      <td>519537.000000</td>\n",
       "      <td>4.599670e+05</td>\n",
       "      <td>519477.000000</td>\n",
       "      <td>519477.000000</td>\n",
       "      <td>519477.000000</td>\n",
       "      <td>519477.000000</td>\n",
       "      <td>519477.000000</td>\n",
       "      <td>519477.000000</td>\n",
       "      <td>519477.000000</td>\n",
       "      <td>518205.000000</td>\n",
       "      <td>518205.000000</td>\n",
       "      <td>518205.000000</td>\n",
       "      <td>518205.000000</td>\n",
       "      <td>519483.000000</td>\n",
       "      <td>519483.000000</td>\n",
       "      <td>519483.000000</td>\n",
       "    </tr>\n",
       "    <tr>\n",
       "      <th>mean</th>\n",
       "      <td>259769.000000</td>\n",
       "      <td>8380.800155</td>\n",
       "      <td>6.029964e+05</td>\n",
       "      <td>39.286783</td>\n",
       "      <td>53.506515</td>\n",
       "      <td>49.621119</td>\n",
       "      <td>54.021562</td>\n",
       "      <td>41.796378</td>\n",
       "      <td>58.182170</td>\n",
       "      <td>24.682864</td>\n",
       "      <td>55.842682</td>\n",
       "      <td>4.805816</td>\n",
       "      <td>52.308125</td>\n",
       "      <td>5.021362</td>\n",
       "      <td>0.295634</td>\n",
       "      <td>28.585551</td>\n",
       "      <td>310.878221</td>\n",
       "    </tr>\n",
       "    <tr>\n",
       "      <th>std</th>\n",
       "      <td>149977.557739</td>\n",
       "      <td>4870.390890</td>\n",
       "      <td>2.164927e+06</td>\n",
       "      <td>14.986149</td>\n",
       "      <td>19.790591</td>\n",
       "      <td>16.409984</td>\n",
       "      <td>18.304974</td>\n",
       "      <td>16.487609</td>\n",
       "      <td>21.019187</td>\n",
       "      <td>32.735378</td>\n",
       "      <td>20.952460</td>\n",
       "      <td>2.222126</td>\n",
       "      <td>16.587610</td>\n",
       "      <td>2.023523</td>\n",
       "      <td>0.998504</td>\n",
       "      <td>10.590144</td>\n",
       "      <td>91.851637</td>\n",
       "    </tr>\n",
       "    <tr>\n",
       "      <th>min</th>\n",
       "      <td>1.000000</td>\n",
       "      <td>1.000000</td>\n",
       "      <td>1.010100e+04</td>\n",
       "      <td>0.000000</td>\n",
       "      <td>0.000000</td>\n",
       "      <td>0.000000</td>\n",
       "      <td>0.000000</td>\n",
       "      <td>0.000000</td>\n",
       "      <td>0.000000</td>\n",
       "      <td>0.000000</td>\n",
       "      <td>0.000000</td>\n",
       "      <td>0.000000</td>\n",
       "      <td>0.000000</td>\n",
       "      <td>0.000000</td>\n",
       "      <td>0.000000</td>\n",
       "      <td>0.000000</td>\n",
       "      <td>0.000000</td>\n",
       "    </tr>\n",
       "    <tr>\n",
       "      <th>25%</th>\n",
       "      <td>129885.000000</td>\n",
       "      <td>4144.000000</td>\n",
       "      <td>3.040300e+04</td>\n",
       "      <td>29.000000</td>\n",
       "      <td>39.000000</td>\n",
       "      <td>39.000000</td>\n",
       "      <td>42.000000</td>\n",
       "      <td>30.000000</td>\n",
       "      <td>46.000000</td>\n",
       "      <td>0.000000</td>\n",
       "      <td>46.000000</td>\n",
       "      <td>3.000000</td>\n",
       "      <td>42.000000</td>\n",
       "      <td>4.000000</td>\n",
       "      <td>0.000000</td>\n",
       "      <td>21.000000</td>\n",
       "      <td>252.000000</td>\n",
       "    </tr>\n",
       "    <tr>\n",
       "      <th>50%</th>\n",
       "      <td>259769.000000</td>\n",
       "      <td>8384.000000</td>\n",
       "      <td>5.060200e+04</td>\n",
       "      <td>39.000000</td>\n",
       "      <td>53.000000</td>\n",
       "      <td>51.000000</td>\n",
       "      <td>56.000000</td>\n",
       "      <td>41.000000</td>\n",
       "      <td>61.000000</td>\n",
       "      <td>0.000000</td>\n",
       "      <td>60.000000</td>\n",
       "      <td>5.000000</td>\n",
       "      <td>54.000000</td>\n",
       "      <td>5.000000</td>\n",
       "      <td>0.000000</td>\n",
       "      <td>29.000000</td>\n",
       "      <td>314.000000</td>\n",
       "    </tr>\n",
       "    <tr>\n",
       "      <th>75%</th>\n",
       "      <td>389653.000000</td>\n",
       "      <td>12587.000000</td>\n",
       "      <td>7.050400e+04</td>\n",
       "      <td>50.000000</td>\n",
       "      <td>68.000000</td>\n",
       "      <td>61.000000</td>\n",
       "      <td>68.000000</td>\n",
       "      <td>53.000000</td>\n",
       "      <td>74.000000</td>\n",
       "      <td>55.000000</td>\n",
       "      <td>71.000000</td>\n",
       "      <td>6.000000</td>\n",
       "      <td>64.000000</td>\n",
       "      <td>6.000000</td>\n",
       "      <td>0.000000</td>\n",
       "      <td>36.000000</td>\n",
       "      <td>375.000000</td>\n",
       "    </tr>\n",
       "    <tr>\n",
       "      <th>max</th>\n",
       "      <td>519537.000000</td>\n",
       "      <td>16893.000000</td>\n",
       "      <td>9.101001e+06</td>\n",
       "      <td>91.000000</td>\n",
       "      <td>100.000000</td>\n",
       "      <td>98.000000</td>\n",
       "      <td>98.000000</td>\n",
       "      <td>96.000000</td>\n",
       "      <td>100.000000</td>\n",
       "      <td>100.000000</td>\n",
       "      <td>96.000000</td>\n",
       "      <td>9.000000</td>\n",
       "      <td>95.000000</td>\n",
       "      <td>9.000000</td>\n",
       "      <td>9.000000</td>\n",
       "      <td>54.000000</td>\n",
       "      <td>570.000000</td>\n",
       "    </tr>\n",
       "  </tbody>\n",
       "</table>\n",
       "</div>"
      ],
      "text/plain": [
       "            index_no       jhs_code      shs_code        english  \\\n",
       "count  519537.000000  519537.000000  4.599670e+05  519477.000000   \n",
       "mean   259769.000000    8380.800155  6.029964e+05      39.286783   \n",
       "std    149977.557739    4870.390890  2.164927e+06      14.986149   \n",
       "min         1.000000       1.000000  1.010100e+04       0.000000   \n",
       "25%    129885.000000    4144.000000  3.040300e+04      29.000000   \n",
       "50%    259769.000000    8384.000000  5.060200e+04      39.000000   \n",
       "75%    389653.000000   12587.000000  7.050400e+04      50.000000   \n",
       "max    519537.000000   16893.000000  9.101001e+06      91.000000   \n",
       "\n",
       "               maths     socstudies            rme     intscience  \\\n",
       "count  519477.000000  519477.000000  519477.000000  519477.000000   \n",
       "mean       53.506515      49.621119      54.021562      41.796378   \n",
       "std        19.790591      16.409984      18.304974      16.487609   \n",
       "min         0.000000       0.000000       0.000000       0.000000   \n",
       "25%        39.000000      39.000000      42.000000      30.000000   \n",
       "50%        53.000000      51.000000      56.000000      41.000000   \n",
       "75%        68.000000      61.000000      68.000000      53.000000   \n",
       "max       100.000000      98.000000      98.000000      96.000000   \n",
       "\n",
       "                 ict         french  best_elective_1_score  \\\n",
       "count  519477.000000  519477.000000          518205.000000   \n",
       "mean       58.182170      24.682864              55.842682   \n",
       "std        21.019187      32.735378              20.952460   \n",
       "min         0.000000       0.000000               0.000000   \n",
       "25%        46.000000       0.000000              46.000000   \n",
       "50%        61.000000       0.000000              60.000000   \n",
       "75%        74.000000      55.000000              71.000000   \n",
       "max       100.000000     100.000000              96.000000   \n",
       "\n",
       "       best_elective_1_aggregate  best_elective_2_score  \\\n",
       "count              518205.000000          518205.000000   \n",
       "mean                    4.805816              52.308125   \n",
       "std                     2.222126              16.587610   \n",
       "min                     0.000000               0.000000   \n",
       "25%                     3.000000              42.000000   \n",
       "50%                     5.000000              54.000000   \n",
       "75%                     6.000000              64.000000   \n",
       "max                     9.000000              95.000000   \n",
       "\n",
       "       best_elective_2_aggregate  count_of_ones      aggregate      raw_score  \n",
       "count              518205.000000  519483.000000  519483.000000  519483.000000  \n",
       "mean                    5.021362       0.295634      28.585551     310.878221  \n",
       "std                     2.023523       0.998504      10.590144      91.851637  \n",
       "min                     0.000000       0.000000       0.000000       0.000000  \n",
       "25%                     4.000000       0.000000      21.000000     252.000000  \n",
       "50%                     5.000000       0.000000      29.000000     314.000000  \n",
       "75%                     6.000000       0.000000      36.000000     375.000000  \n",
       "max                     9.000000       9.000000      54.000000     570.000000  "
      ]
     },
     "execution_count": 20,
     "metadata": {},
     "output_type": "execute_result"
    }
   ],
   "source": [
    "df.describe()"
   ]
  },
  {
   "cell_type": "code",
   "execution_count": 1,
   "metadata": {},
   "outputs": [],
   "source": []
  },
  {
   "cell_type": "code",
   "execution_count": 11,
   "metadata": {},
   "outputs": [
    {
     "data": {
      "text/plain": [
       "<AxesSubplot:xlabel='english'>"
      ]
     },
     "execution_count": 11,
     "metadata": {},
     "output_type": "execute_result"
    },
    {
     "data": {
      "image/png": "[encoded data removed]",
      "text/plain": [
       "<Figure size 432x288 with 1 Axes>"
      ]
     },
     "metadata": {
      "needs_background": "light"
     },
     "output_type": "display_data"
    }
   ],
   "source": [
    "sns.boxplot(x = df[\"english\"])"
   ]
  }
 ],
 "metadata": {
  "kernelspec": {
   "display_name": "base",
   "language": "python",
   "name": "python3"
  },
  "language_info": {
   "codemirror_mode": {
    "name": "ipython",
    "version": 3
   },
   "file_extension": ".py",
   "mimetype": "text/x-python",
   "name": "python",
   "nbconvert_exporter": "python",
   "pygments_lexer": "ipython3",
   "version": "3.8.8"
  },
  "orig_nbformat": 4,
  "vscode": {
   "interpreter": {
    "hash": "8602ab2c3388629891678afcd302d55cf8f09071ac181019a4e33980ecf48fe4"
   }
  }
 },
 "nbformat": 4,
 "nbformat_minor": 2
}
